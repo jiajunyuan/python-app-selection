{
 "cells": [
  {
   "cell_type": "markdown",
   "metadata": {},
   "source": [
    "# App Selection for Start Up\n",
    "____\n",
    "Taking the role of an company deciding the direction of the next app. This company builds free apps and monetizes through in-app ads revenue.\n",
    "\n",
    "iOS is prioritized due to 1) the fragmentation of Android, and 2) apps on the App Store tend to be more profitable. So we will explore iTunes first.\n",
    "\n",
    "To develop a successful app, the following strategy is adopted:\n",
    "1. Publish an iOS minimum viable product on the App Store.\n",
    "2. If the app is well received, we develop it further.\n",
    "3. If the app is profitable after six months, we develop the same app for the Google Play Store."
   ]
  },
  {
   "cell_type": "markdown",
   "metadata": {},
   "source": [
    "## Data Exploration"
   ]
  },
  {
   "cell_type": "markdown",
   "metadata": {},
   "source": [
    "The datasets prepared are [Mobile App Store](https://www.kaggle.com/ramamet4/app-store-apple-data-set-10k-apps/home) by Ramanathan Perumal, containing  7196 entries; and [Google Play Store Apps](https://www.kaggle.com/lava18/google-play-store-apps/home) by Lavanya Gupta, containing 10841 entries.\n",
    "\n",
    "First, open the datasets using csv.reader."
   ]
  },
  {
   "cell_type": "code",
   "execution_count": 1,
   "metadata": {
    "collapsed": false
   },
   "outputs": [],
   "source": [
    "from csv import reader\n",
    "ios_db = list(reader(open('AppleStore.csv', encoding = 'utf8')))\n",
    "gplay_db = list(reader(open('googleplaystore.csv', encoding = 'utf8')))"
   ]
  },
  {
   "cell_type": "markdown",
   "metadata": {},
   "source": [
    "Then let's explore the data. The following function allows us to format the selected data for readability."
   ]
  },
  {
   "cell_type": "code",
   "execution_count": 2,
   "metadata": {
    "collapsed": true
   },
   "outputs": [],
   "source": [
    "def explore_data(dataset, start, end, rows_and_columns = False):\n",
    "    dataset_slice = dataset[start:end]    \n",
    "    for row in dataset_slice:\n",
    "        print(row)\n",
    "        print('\\n') # adds a new (empty) line after each row\n",
    "\n",
    "    if rows_and_columns:\n",
    "        print('Number of rows:', len(dataset))\n",
    "        print('Number of columns:', len(dataset[0]))"
   ]
  },
  {
   "cell_type": "code",
   "execution_count": 3,
   "metadata": {
    "collapsed": false
   },
   "outputs": [
    {
     "name": "stdout",
     "output_type": "stream",
     "text": [
      "iTune App Store\n",
      "['id', 'track_name', 'size_bytes', 'currency', 'price', 'rating_count_tot', 'rating_count_ver', 'user_rating', 'user_rating_ver', 'ver', 'cont_rating', 'prime_genre', 'sup_devices.num', 'ipadSc_urls.num', 'lang.num', 'vpp_lic']\n",
      "\n",
      "\n",
      "['284882215', 'Facebook', '389879808', 'USD', '0.0', '2974676', '212', '3.5', '3.5', '95.0', '4+', 'Social Networking', '37', '1', '29', '1']\n",
      "\n",
      "\n",
      "['389801252', 'Instagram', '113954816', 'USD', '0.0', '2161558', '1289', '4.5', '4.0', '10.23', '12+', 'Photo & Video', '37', '0', '29', '1']\n",
      "\n",
      "\n",
      "None\n",
      "_________________________________________________________________________________\n",
      "Google Play Store\n",
      "['App', 'Category', 'Rating', 'Reviews', 'Size', 'Installs', 'Type', 'Price', 'Content Rating', 'Genres', 'Last Updated', 'Current Ver', 'Android Ver']\n",
      "\n",
      "\n",
      "['Photo Editor & Candy Camera & Grid & ScrapBook', 'ART_AND_DESIGN', '4.1', '159', '19M', '10,000+', 'Free', '0', 'Everyone', 'Art & Design', 'January 7, 2018', '1.0.0', '4.0.3 and up']\n",
      "\n",
      "\n",
      "['Coloring book moana', 'ART_AND_DESIGN', '3.9', '967', '14M', '500,000+', 'Free', '0', 'Everyone', 'Art & Design;Pretend Play', 'January 15, 2018', '2.0.0', '4.0.3 and up']\n",
      "\n",
      "\n",
      "None\n"
     ]
    }
   ],
   "source": [
    "print('iTune App Store')\n",
    "print(explore_data(ios_db, 0, 3))\n",
    "print('_________________________________________________________________________________')\n",
    "print('Google Play Store')\n",
    "print(explore_data(gplay_db, 0, 3))"
   ]
  },
  {
   "cell_type": "markdown",
   "metadata": {},
   "source": [
    "### Determine Irrelevant Information"
   ]
  },
  {
   "cell_type": "markdown",
   "metadata": {},
   "source": [
    "Let's decide what content will be useful for our analysis.\n",
    "For ios_db, we can ignore columns that don't provide meaningful information for our analysis.\n",
    "\n",
    "1) `id`. App id does not provide any meaningful information other than to act as unique primary key. Unless we are dealing with multiple databases. \n",
    "2) 'user_rating_ver'. Unless there are data of ratings from previous versions, which will allow us to see whether an app has become better or worse received by users overtime. Otherwise, this column is meaningless.\n",
    "3) `ver`. For the same reason as above, this column is meaningless.\n",
    "4) `vpp_lic`. Apple Volume Purchase Program allows companies and organizations to easily purchase and manage apps en bulk. Since we are interested in the overall market performance, and since the consumer market dwarfs business use (except for certain apps), we are not interested in this column."
   ]
  },
  {
   "cell_type": "markdown",
   "metadata": {},
   "source": [
    "For the gplay_db, we can ignore the following columns:\n",
    "1) `Last Updated`\n",
    "2) `Current Ver`\n",
    "3) `Android Ver`. Unlike iOS, which is a proprietary close-ended operating system, Android is an open source platform, and is fragmented among different device makers and devices. We intend to keep our app on the latest Android version anyways, so column can be ignored."
   ]
  },
  {
   "cell_type": "markdown",
   "metadata": {},
   "source": [
    "## Data Cleaning"
   ]
  },
  {
   "cell_type": "markdown",
   "metadata": {},
   "source": [
    "### Removing Unknown Genre- Entry 10473"
   ]
  },
  {
   "cell_type": "markdown",
   "metadata": {},
   "source": [
    "There is an error within gplay_db, in which entry 10473 has an empty genre categorization. To keep ensure the data is pristine, we will remove this entry from our data with the `del` function. We must not run this command more than once, or we will delete more data than intended.\n",
    "`del gplay_db[10473]`\n",
    "\n",
    "`print(gplay_db[0])`\n",
    "['App', 'Category', 'Rating', 'Reviews', 'Size', 'Installs', 'Type', 'Price', 'Content Rating', **'Genres'**, 'Last Updated', 'Current Ver', 'Android Ver']\n",
    "\n",
    "`print(gplay_db[10473])`\n",
    "['Life Made WI-Fi Touchscreen Photo Frame', '1.9', '19', '3.0M', '1,000+', 'Free', '0', 'Everyone', **''**, 'February 11, 2018', '1.0.19', '4.0 and up']\n",
    "\n",
    "`print(gplay_db[10473])` #post deletion\n",
    "['osmino Wi-Fi: free WiFi', 'TOOLS', '4.2', '134203', '4.1M', '10,000,000+', 'Free', '0', 'Everyone', 'Tools', 'August 7, 2018', '6.06.14', '4.4 and up']\n",
    "\n",
    "We can also confirm `del` worked as intended by the number of entries, but it is possible that we mistyped and deleted a different entry instead.\n",
    "Since the first row is header row, we exclude it from our app count."
   ]
  },
  {
   "cell_type": "code",
   "execution_count": 4,
   "metadata": {
    "collapsed": false
   },
   "outputs": [
    {
     "name": "stdout",
     "output_type": "stream",
     "text": [
      "Number of apps before deletion: 10841\n",
      "Number of apps post deletion: 10840\n"
     ]
    }
   ],
   "source": [
    "print('Number of apps before deletion:', len(gplay_db[1:]))\n",
    "del gplay_db[10473]\n",
    "print('Number of apps post deletion:', len(gplay_db[1:]))"
   ]
  },
  {
   "cell_type": "markdown",
   "metadata": {},
   "source": [
    "To confirm the troublesome data is deleted, let's check the entry content."
   ]
  },
  {
   "cell_type": "code",
   "execution_count": 5,
   "metadata": {
    "collapsed": false
   },
   "outputs": [
    {
     "name": "stdout",
     "output_type": "stream",
     "text": [
      "['osmino Wi-Fi: free WiFi', 'TOOLS', '4.2', '134203', '4.1M', '10,000,000+', 'Free', '0', 'Everyone', 'Tools', 'August 7, 2018', '6.06.14', '4.4 and up']\n"
     ]
    }
   ],
   "source": [
    "print(gplay_db[10473])"
   ]
  },
  {
   "cell_type": "markdown",
   "metadata": {},
   "source": [
    "### Identifying and Removing Duplicate Entries"
   ]
  },
  {
   "cell_type": "markdown",
   "metadata": {},
   "source": [
    "Another problem with `gplay_db` is that it has duplicate entries. Here are two examples:"
   ]
  },
  {
   "cell_type": "code",
   "execution_count": 6,
   "metadata": {
    "collapsed": false
   },
   "outputs": [
    {
     "name": "stdout",
     "output_type": "stream",
     "text": [
      "['Slack', 'BUSINESS', '4.4', '51507', 'Varies with device', '5,000,000+', 'Free', '0', 'Everyone', 'Business', 'August 2, 2018', 'Varies with device', 'Varies with device']\n",
      "['Slack', 'BUSINESS', '4.4', '51507', 'Varies with device', '5,000,000+', 'Free', '0', 'Everyone', 'Business', 'August 2, 2018', 'Varies with device', 'Varies with device']\n",
      "['Slack', 'BUSINESS', '4.4', '51510', 'Varies with device', '5,000,000+', 'Free', '0', 'Everyone', 'Business', 'August 2, 2018', 'Varies with device', 'Varies with device']\n",
      "\n",
      "\n",
      "['Google Ads', 'BUSINESS', '4.3', '29313', '20M', '5,000,000+', 'Free', '0', 'Everyone', 'Business', 'July 30, 2018', '1.12.0', '4.0.3 and up']\n",
      "['Google Ads', 'BUSINESS', '4.3', '29313', '20M', '5,000,000+', 'Free', '0', 'Everyone', 'Business', 'July 30, 2018', '1.12.0', '4.0.3 and up']\n",
      "['Google Ads', 'BUSINESS', '4.3', '29331', '20M', '5,000,000+', 'Free', '0', 'Everyone', 'Business', 'July 30, 2018', '1.12.0', '4.0.3 and up']\n"
     ]
    }
   ],
   "source": [
    "for app in gplay_db:\n",
    "    name = app[0]\n",
    "    if name == 'Slack':\n",
    "        print(app)\n",
    "print('\\n')\n",
    "for app in gplay_db:\n",
    "    name = app[0]\n",
    "    if name == 'Google Ads':\n",
    "        print(app)"
   ]
  },
  {
   "cell_type": "markdown",
   "metadata": {},
   "source": [
    "Duplicate entries will distort the analysis. If the issue is small, maybe it is more time efficient to leave the duplicate values in, maybe if under 0.5% of the dataset. So let's explore how serious the problem is.\n",
    "To do, we will use `for` loop to iterate over each app's name. We will store the unique and duplicate values in two different lists."
   ]
  },
  {
   "cell_type": "code",
   "execution_count": 7,
   "metadata": {
    "collapsed": false
   },
   "outputs": [
    {
     "name": "stdout",
     "output_type": "stream",
     "text": [
      "Number of unique apps: 9659\n",
      "Examples of unique apps: ['Photo Editor & Candy Camera & Grid & ScrapBook', 'Coloring book moana', 'U Launcher Lite – FREE Live Cool Themes, Hide Apps']\n",
      "\n",
      "\n",
      "Number of duplicate apps: 1181\n",
      "Examples of duplicate apps: ['Quick PDF Scanner + OCR FREE', 'Box']\n",
      "\n",
      "\n",
      "Expected length: 9659\n"
     ]
    }
   ],
   "source": [
    "duplicate_apps = []\n",
    "unique_apps = []\n",
    "for app in gplay_db[1:]:\n",
    "    name = app[0]\n",
    "    if name in unique_apps:\n",
    "        duplicate_apps.append(name)\n",
    "    else:\n",
    "        unique_apps.append(name)\n",
    "\n",
    "print('Number of unique apps:', len(unique_apps))\n",
    "print('Examples of unique apps:', unique_apps[:3])\n",
    "print('\\n')\n",
    "print('Number of duplicate apps:', len(duplicate_apps))\n",
    "print('Examples of duplicate apps:', duplicate_apps[:2])\n",
    "print('\\n')\n",
    "print('Expected length:', len(gplay_db[1:])- len(duplicate_apps))"
   ]
  },
  {
   "cell_type": "markdown",
   "metadata": {},
   "source": [
    "About 11% of entries in gplay_db are duplicates. Having such significant amount of duplicates will compromise our analysis.\n",
    "\n",
    "Looking at the duplicated rows, we find the difference to be mainly with the number of `'reviews`.\n",
    "\n",
    "The higher the number of reviews, the more recent the data should be. Rather than removing duplicates randomly, we will only keep the row with the highest number of reviews, assuming the entry with the highest review is the most up-to-date entry, since the entries are not time stamped."
   ]
  },
  {
   "cell_type": "markdown",
   "metadata": {},
   "source": [
    "To do this we must sort the duplicate entries. We will store the output in a dictionary. The function first creates a [app name: reviews] key value pair if it encounters a new app (app not already in the dictionary), then everytime the same app is encountered, the function will update the review count if the new review count is greater than the one in the dictionary. Doing so guarantees we have a dictionary of apps with the most reviews."
   ]
  },
  {
   "cell_type": "code",
   "execution_count": 8,
   "metadata": {
    "collapsed": false
   },
   "outputs": [
    {
     "name": "stdout",
     "output_type": "stream",
     "text": [
      "9659\n"
     ]
    }
   ],
   "source": [
    "reviews_max = {}\n",
    "\n",
    "for app in gplay_db[1:]:\n",
    "    name = app[0]\n",
    "    n_reviews = float(app[3])\n",
    "    \n",
    "    if name in reviews_max and reviews_max[name] < n_reviews:\n",
    "        reviews_max[name] = n_reviews\n",
    "        \n",
    "    elif name not in reviews_max:\n",
    "        reviews_max[name] = n_reviews\n",
    "        \n",
    "print(len(reviews_max))"
   ]
  },
  {
   "cell_type": "markdown",
   "metadata": {},
   "source": [
    "The 'reviews-max' dictionary only contains two fields, so we will use it as reference sort through gplay_db. If the number of reviews matches 'reviews_max', then the entry is added to a new `gplay_db_unique` table.\n",
    "\n",
    "To avoid the situation where two duplicate apps have the same amount of reviews, we need to create a condition so that only 1 instance is appended to the `gplay_db_unique` table.\n",
    "We can can check if the function worked as intended by comparing the number of entries in `gplay_db_unique` and `gplay_db_already_added`.\n",
    "\n",
    "If we do not do this, then we can see the number of apps matching 'reviews_max' is 10054, and not 9659 as expected."
   ]
  },
  {
   "cell_type": "code",
   "execution_count": 9,
   "metadata": {
    "collapsed": false,
    "scrolled": true
   },
   "outputs": [
    {
     "name": "stdout",
     "output_type": "stream",
     "text": [
      "Apps with duplicates of the highest reviews: 10054\n",
      "Unique apps with the highest reviews: 9659\n"
     ]
    }
   ],
   "source": [
    "gplay_db_highest_reviews = []\n",
    "gplay_db_unique = []\n",
    "gplay_db_already_added = []\n",
    "\n",
    "for app in gplay_db[1:]:\n",
    "    name = app[0]\n",
    "    n_reviews = float(app[3])\n",
    "    if (n_reviews == reviews_max[name]):\n",
    "        gplay_db_highest_reviews.append(app)\n",
    "        \n",
    "print('Apps with duplicates of the highest reviews:', len(gplay_db_highest_reviews))\n",
    "\n",
    "for app in gplay_db[1:]:\n",
    "    name = app[0]\n",
    "    n_reviews = float(app[3])\n",
    "    if (n_reviews == reviews_max[name]) and (name not in gplay_db_already_added):\n",
    "        gplay_db_unique.append(app)\n",
    "        gplay_db_already_added.append(name)\n",
    "\n",
    "print('Unique apps with the highest reviews:', len(gplay_db_unique))"
   ]
  },
  {
   "cell_type": "markdown",
   "metadata": {},
   "source": [
    "### Identifying and Removing Non-English Apps"
   ]
  },
  {
   "cell_type": "markdown",
   "metadata": {
    "collapsed": true
   },
   "source": [
    "There are non-English apps in both datasets. Here are a few examples:"
   ]
  },
  {
   "cell_type": "code",
   "execution_count": 10,
   "metadata": {
    "collapsed": false
   },
   "outputs": [
    {
     "name": "stdout",
     "output_type": "stream",
     "text": [
      "BATTLE BEARS -1\n",
      "Beast Poker\n",
      "لعبة تقدر تربح DZ\n"
     ]
    }
   ],
   "source": [
    "print(ios_db[813][1])\n",
    "print(ios_db[6731][1])\n",
    "print(gplay_db_unique[7940][0])"
   ]
  },
  {
   "cell_type": "markdown",
   "metadata": {},
   "source": [
    "We are not interested in non-English apps. To remove these entries, we will reference the ASCII (American Standard Code for Information Interchange) table.\n",
    "\n",
    "ASCII designates values 0-127 are for control and printable characters, 128 and on are extended characters, including unicodes and characters from other languages. So we will only keep apps with names conforming values 0-127.\n",
    "\n",
    "We will loop through the app name, taking each string as iterable, checking against the ASCII table, and retaining the result into a new list.\n",
    "\n",
    "There are some characters not in ASCII, such as special symbols (™) and emojis (😜). Our function must be all inclusive of those edge cases. so the following code will not work."
   ]
  },
  {
   "cell_type": "code",
   "execution_count": 11,
   "metadata": {
    "collapsed": false
   },
   "outputs": [
    {
     "name": "stdout",
     "output_type": "stream",
     "text": [
      "None\n",
      "False\n",
      "False\n",
      "False\n"
     ]
    }
   ],
   "source": [
    "def is_english(app_name):\n",
    "    for character in app_name:\n",
    "        if ord(character) > 127:\n",
    "            return False    \n",
    "print(is_english('Instagram'))\n",
    "print(is_english('爱奇艺PPS -《欢乐颂2》电视剧热播'))\n",
    "print(is_english('Docs To Go™ Free Office Suite'))\n",
    "print(is_english('Instachat 😜'))"
   ]
  },
  {
   "cell_type": "markdown",
   "metadata": {},
   "source": [
    "The level of precision in our function is not high enough to account for edge cases with special characters. While it is possible to create an all-inclusive dictionary with every possible character, doing so would increase the cost and time by orders of magnitude.\n",
    "So a simpler method is deviced. If an app name has more than 3 special characters, then we consider it to be non-english."
   ]
  },
  {
   "cell_type": "code",
   "execution_count": 12,
   "metadata": {
    "collapsed": false
   },
   "outputs": [
    {
     "name": "stdout",
     "output_type": "stream",
     "text": [
      "True\n",
      "False\n",
      "True\n",
      "True\n"
     ]
    }
   ],
   "source": [
    "def is_english(app_name):\n",
    "    non_ascii = 0\n",
    "    for character in app_name:\n",
    "        if ord(character) > 127:\n",
    "            non_ascii += 1\n",
    "    if non_ascii > 3:\n",
    "        return False\n",
    "    else:\n",
    "        return True\n",
    "\n",
    "print(is_english('Instagram'))\n",
    "print(is_english('爱奇艺PPS -《欢乐颂2》电视剧热播'))\n",
    "print(is_english('Docs To Go™ Free Office Suite'))\n",
    "print(is_english('Instachat 😜'))"
   ]
  },
  {
   "cell_type": "markdown",
   "metadata": {},
   "source": [
    "Now let's filter both datasets so only English apps are kept."
   ]
  },
  {
   "cell_type": "code",
   "execution_count": 13,
   "metadata": {
    "collapsed": false
   },
   "outputs": [
    {
     "name": "stdout",
     "output_type": "stream",
     "text": [
      "6183\n",
      "9614\n"
     ]
    }
   ],
   "source": [
    "ios_db_english = []\n",
    "ios_db_non_english = []\n",
    "gplay_db_english = []\n",
    "gplay_db_non_english = []\n",
    "\n",
    "for app in ios_db[1:]:\n",
    "    if is_english(app[1]):\n",
    "        ios_db_english.append(app)\n",
    "    else:\n",
    "        ios_db_non_english.append(app)\n",
    "\n",
    "for app in gplay_db_unique:\n",
    "    if is_english(app[0]):\n",
    "        gplay_db_english.append(app)\n",
    "    else:\n",
    "        gplay_db_non_english.append(app)\n",
    "\n",
    "print(len(ios_db_english))\n",
    "print(len(gplay_db_english))"
   ]
  },
  {
   "cell_type": "markdown",
   "metadata": {},
   "source": [
    "### Identifying and Removing Non-Free Apps"
   ]
  },
  {
   "cell_type": "markdown",
   "metadata": {},
   "source": [
    "Lastly, we are only interested in free apps. So let's sort the data once more."
   ]
  },
  {
   "cell_type": "code",
   "execution_count": 14,
   "metadata": {
    "collapsed": false
   },
   "outputs": [
    {
     "name": "stdout",
     "output_type": "stream",
     "text": [
      "Number of free iOS apps: 3222\n",
      "Number of free Android apps: 8863\n"
     ]
    }
   ],
   "source": [
    "ios_db_free = []\n",
    "ios_db_non_free = []\n",
    "gplay_db_free = []\n",
    "gplay_db_non_free = []\n",
    "\n",
    "for app in ios_db_english:\n",
    "    if float(app[4]) == 0:\n",
    "        ios_db_free.append(app)\n",
    "    else:\n",
    "        ios_db_non_free.append(app)\n",
    "        \n",
    "for app in gplay_db_english:\n",
    "    if app[6] == 'Free':\n",
    "        gplay_db_free.append(app)\n",
    "    else:\n",
    "        gplay_db_non_free.append(app)\n",
    "\n",
    "print('Number of free iOS apps:', len(ios_db_free))\n",
    "print('Number of free Android apps:', len(gplay_db_free))"
   ]
  },
  {
   "cell_type": "markdown",
   "metadata": {},
   "source": [
    "## Determining The Most Popular App Genre"
   ]
  },
  {
   "cell_type": "markdown",
   "metadata": {},
   "source": [
    "### Number of Apps"
   ]
  },
  {
   "cell_type": "markdown",
   "metadata": {},
   "source": [
    "Before development can begin, we must decide the genre of our app. To do this, we will look at which genre are most popular in both stores.\n",
    "Two metrics will be employed. 1) number of installs per genre, and 2) number of apps per genre.\n",
    "\n",
    "`gplay_db` has 'Genre' and 'Category'. Both could provide information about the nature of the app. The difference between the two is unclear for now, so let's not pick one over the other for now.\n",
    "\n",
    "To do this, we will create a function to count the frequency of the column, then a different function to sort the result from largest to smallest. Of course we are interested in percentage as well as the absolute numbers."
   ]
  },
  {
   "cell_type": "code",
   "execution_count": 15,
   "metadata": {
    "collapsed": false
   },
   "outputs": [
    {
     "name": "stdout",
     "output_type": "stream",
     "text": [
      "iTunes App Store by genre frequency\n",
      "Games : 58.16263190564867\n",
      "Entertainment : 7.883302296710118\n",
      "Photo & Video : 4.9658597144630665\n",
      "Education : 3.662321539416512\n",
      "Social Networking : 3.2898820608317814\n",
      "Shopping : 2.60707635009311\n",
      "Utilities : 2.5139664804469275\n",
      "Sports : 2.1415270018621975\n",
      "Music : 2.0484171322160147\n",
      "Health & Fitness : 2.0173805090006205\n",
      "Productivity : 1.7380509000620732\n",
      "Lifestyle : 1.5828677839851024\n",
      "News : 1.3345747982619491\n",
      "Travel : 1.2414649286157666\n",
      "Finance : 1.1173184357541899\n",
      "Weather : 0.8690254500310366\n",
      "Food & Drink : 0.8069522036002483\n",
      "Reference : 0.5586592178770949\n",
      "Business : 0.5276225946617008\n",
      "Book : 0.4345127250155183\n",
      "Navigation : 0.186219739292365\n",
      "Medical : 0.186219739292365\n",
      "Catalogs : 0.12414649286157665\n",
      "None\n",
      "\n",
      "\n",
      "Google Play by genre frequency\n",
      "Tools : 8.450863138892023\n",
      "Entertainment : 6.070179397495204\n",
      "Education : 5.348076272142616\n",
      "Business : 4.592124562789123\n",
      "Productivity : 3.8925871601038025\n",
      "Lifestyle : 3.8925871601038025\n",
      "Finance : 3.7007785174320205\n",
      "Medical : 3.5315355974275078\n",
      "Sports : 3.463838429425702\n",
      "Personalization : 3.317161232088458\n",
      "Communication : 3.2381812027530184\n",
      "Action : 3.102786866749408\n",
      "Health & Fitness : 3.0802211440821394\n",
      "Photography : 2.944826808078529\n",
      "News & Magazines : 2.798149610741284\n",
      "Social : 2.6627552747376737\n",
      "Travel & Local : 2.324269434728647\n",
      "Shopping : 2.245289405393208\n",
      "Books & Reference : 2.1437436533904997\n",
      "Simulation : 2.042197901387792\n",
      "Dating : 1.8616721200496444\n",
      "Arcade : 1.8503892587160102\n",
      "Video Players & Editors : 1.771409229380571\n",
      "Casual : 1.7601263680469368\n",
      "Maps & Navigation : 1.399074805370642\n",
      "Food & Drink : 1.241114746699763\n",
      "Puzzle : 1.128286133363421\n",
      "Racing : 0.9928917973598104\n",
      "Role Playing : 0.9364774906916393\n",
      "Libraries & Demo : 0.9364774906916393\n",
      "Auto & Vehicles : 0.9251946293580051\n",
      "Strategy : 0.9026289066907368\n",
      "House & Home : 0.8236488773552973\n",
      "Weather : 0.8010831546880289\n",
      "Events : 0.7108202640189552\n",
      "Adventure : 0.6769716800180525\n",
      "Comics : 0.6092745120162473\n",
      "Beauty : 0.5979916506826132\n",
      "Art & Design : 0.5979916506826132\n",
      "Parenting : 0.4964458986799052\n",
      "Card : 0.4513144533453684\n",
      "Casino : 0.42874873067809993\n",
      "Trivia : 0.4174658693444658\n",
      "Educational;Education : 0.3949001466771973\n",
      "Board : 0.38361728534356315\n",
      "Educational : 0.37233442400992894\n",
      "Education;Education : 0.33848584000902626\n",
      "Word : 0.25950581067358686\n",
      "Casual;Pretend Play : 0.2369400880063184\n",
      "Music : 0.20309150400541578\n",
      "Racing;Action & Adventure : 0.16924292000451313\n",
      "Puzzle;Brain Games : 0.16924292000451313\n",
      "Entertainment;Music & Video : 0.16924292000451313\n",
      "Casual;Brain Games : 0.1353943360036105\n",
      "Casual;Action & Adventure : 0.1353943360036105\n",
      "Arcade;Action & Adventure : 0.1241114746699763\n",
      "Action;Action & Adventure : 0.10154575200270789\n",
      "Educational;Pretend Play : 0.09026289066907367\n",
      "Simulation;Action & Adventure : 0.07898002933543948\n",
      "Parenting;Education : 0.07898002933543948\n",
      "Entertainment;Brain Games : 0.07898002933543948\n",
      "Board;Brain Games : 0.07898002933543948\n",
      "Parenting;Music & Video : 0.06769716800180525\n",
      "Educational;Brain Games : 0.06769716800180525\n",
      "Casual;Creativity : 0.06769716800180525\n",
      "Art & Design;Creativity : 0.06769716800180525\n",
      "Education;Pretend Play : 0.05641430666817105\n",
      "Role Playing;Pretend Play : 0.045131445334536835\n",
      "Education;Creativity : 0.045131445334536835\n",
      "Role Playing;Action & Adventure : 0.033848584000902626\n",
      "Puzzle;Action & Adventure : 0.033848584000902626\n",
      "Entertainment;Creativity : 0.033848584000902626\n",
      "Entertainment;Action & Adventure : 0.033848584000902626\n",
      "Educational;Creativity : 0.033848584000902626\n",
      "Educational;Action & Adventure : 0.033848584000902626\n",
      "Education;Music & Video : 0.033848584000902626\n",
      "Education;Brain Games : 0.033848584000902626\n",
      "Education;Action & Adventure : 0.033848584000902626\n",
      "Adventure;Action & Adventure : 0.033848584000902626\n",
      "Video Players & Editors;Music & Video : 0.022565722667268417\n",
      "Sports;Action & Adventure : 0.022565722667268417\n",
      "Simulation;Pretend Play : 0.022565722667268417\n",
      "Puzzle;Creativity : 0.022565722667268417\n",
      "Music;Music & Video : 0.022565722667268417\n",
      "Entertainment;Pretend Play : 0.022565722667268417\n",
      "Casual;Education : 0.022565722667268417\n",
      "Board;Action & Adventure : 0.022565722667268417\n",
      "Video Players & Editors;Creativity : 0.011282861333634209\n",
      "Trivia;Education : 0.011282861333634209\n",
      "Travel & Local;Action & Adventure : 0.011282861333634209\n",
      "Tools;Education : 0.011282861333634209\n",
      "Strategy;Education : 0.011282861333634209\n",
      "Strategy;Creativity : 0.011282861333634209\n",
      "Strategy;Action & Adventure : 0.011282861333634209\n",
      "Simulation;Education : 0.011282861333634209\n",
      "Role Playing;Brain Games : 0.011282861333634209\n",
      "Racing;Pretend Play : 0.011282861333634209\n",
      "Puzzle;Education : 0.011282861333634209\n",
      "Parenting;Brain Games : 0.011282861333634209\n",
      "Music & Audio;Music & Video : 0.011282861333634209\n",
      "Lifestyle;Pretend Play : 0.011282861333634209\n",
      "Lifestyle;Education : 0.011282861333634209\n",
      "Health & Fitness;Education : 0.011282861333634209\n",
      "Health & Fitness;Action & Adventure : 0.011282861333634209\n",
      "Entertainment;Education : 0.011282861333634209\n",
      "Communication;Creativity : 0.011282861333634209\n",
      "Comics;Creativity : 0.011282861333634209\n",
      "Casual;Music & Video : 0.011282861333634209\n",
      "Card;Action & Adventure : 0.011282861333634209\n",
      "Books & Reference;Education : 0.011282861333634209\n",
      "Art & Design;Pretend Play : 0.011282861333634209\n",
      "Art & Design;Action & Adventure : 0.011282861333634209\n",
      "Arcade;Pretend Play : 0.011282861333634209\n",
      "Adventure;Education : 0.011282861333634209\n",
      "None\n",
      "\n",
      "\n",
      "Google Play by category frequency\n",
      "FAMILY : 18.898792733837304\n",
      "GAME : 9.725826469592688\n",
      "TOOLS : 8.462146000225657\n",
      "BUSINESS : 4.592124562789123\n",
      "LIFESTYLE : 3.9038700214374367\n",
      "PRODUCTIVITY : 3.8925871601038025\n",
      "FINANCE : 3.7007785174320205\n",
      "MEDICAL : 3.5315355974275078\n",
      "SPORTS : 3.396141261423897\n",
      "PERSONALIZATION : 3.317161232088458\n",
      "COMMUNICATION : 3.2381812027530184\n",
      "HEALTH_AND_FITNESS : 3.0802211440821394\n",
      "PHOTOGRAPHY : 2.944826808078529\n",
      "NEWS_AND_MAGAZINES : 2.798149610741284\n",
      "SOCIAL : 2.6627552747376737\n",
      "TRAVEL_AND_LOCAL : 2.335552296062281\n",
      "SHOPPING : 2.245289405393208\n",
      "BOOKS_AND_REFERENCE : 2.1437436533904997\n",
      "DATING : 1.8616721200496444\n",
      "VIDEO_PLAYERS : 1.7939749520478394\n",
      "MAPS_AND_NAVIGATION : 1.399074805370642\n",
      "FOOD_AND_DRINK : 1.241114746699763\n",
      "EDUCATION : 1.1621347173643235\n",
      "ENTERTAINMENT : 0.9590432133589079\n",
      "LIBRARIES_AND_DEMO : 0.9364774906916393\n",
      "AUTO_AND_VEHICLES : 0.9251946293580051\n",
      "HOUSE_AND_HOME : 0.8236488773552973\n",
      "WEATHER : 0.8010831546880289\n",
      "EVENTS : 0.7108202640189552\n",
      "PARENTING : 0.6544059573507841\n",
      "ART_AND_DESIGN : 0.6431230960171499\n",
      "COMICS : 0.6205573733498815\n",
      "BEAUTY : 0.5979916506826132\n",
      "None\n"
     ]
    }
   ],
   "source": [
    "def count_total_apps(database):\n",
    "    total_apps = 0\n",
    "    \n",
    "    for row in database:\n",
    "        total_apps += 1\n",
    "    return total_apps\n",
    "\n",
    "def count_freq_table_raw(dataset, count_index):\n",
    "    count_frequency_table_raw = {}\n",
    "    \n",
    "    for row in dataset:\n",
    "        col = row[count_index]\n",
    "        if col in count_frequency_table_raw:\n",
    "            count_frequency_table_raw[col] += 1\n",
    "        else:\n",
    "            count_frequency_table_raw[col] = 1\n",
    "    \n",
    "    return count_frequency_table_raw\n",
    "        \n",
    "def count_freq_table_percentage(database,count_index):\n",
    "    count_frequency_table_percentage = {}\n",
    "    table = count_freq_table_raw(database, count_index)\n",
    "    total_apps = count_total_apps(database)\n",
    "    for col in table:\n",
    "        count_frequency_table_percentage[col] = (table[col] / total_apps * 100)\n",
    "    return count_frequency_table_percentage\n",
    "\n",
    "def count_sort_table(function, dataset, count_index = \"\"):\n",
    "    table = function(dataset, count_index)\n",
    "    table_sorted = []\n",
    "    for key in table:\n",
    "        key_val_as_tuple = (table[key], key)\n",
    "        table_sorted.append(key_val_as_tuple)\n",
    "\n",
    "    table_sorted = sorted(table_sorted, reverse = True)\n",
    "    for entry in table_sorted:\n",
    "        print(entry[1], ':', entry[0])\n",
    "\n",
    "ios_db_free_genre_frequency = count_freq_table_raw(ios_db_free, 11)\n",
    "gplay_db_free_genre_frequency = count_freq_table_raw(gplay_db_free, 9)\n",
    "gplay_db_free_category_frequency = count_freq_table_raw(gplay_db_free, 1)\n",
    "\n",
    "#print(sorted(count_freq_table_percentage(ios_db_free, 11)))\n",
    "print('iTunes App Store by genre frequency')\n",
    "print(count_sort_table(count_freq_table_percentage, ios_db_free, 11))\n",
    "print('\\n')\n",
    "print('Google Play by genre frequency')\n",
    "print(count_sort_table(count_freq_table_percentage, gplay_db_free, 9))\n",
    "print('\\n')\n",
    "print('Google Play by category frequency')\n",
    "print(count_sort_table(count_freq_table_percentage, gplay_db_free, 1))"
   ]
  },
  {
   "cell_type": "markdown",
   "metadata": {},
   "source": [
    "Games are by far the most popular genre in the App Store. But that does not mean games have the most user.\n",
    "`print('Sorted iOS Prime Genre frequency')`\n",
    "`print(display_table(ios_db_free, 11))`\n",
    "Games : 58.16263190564867\n",
    "Entertainment : 7.883302296710118\n",
    "\n",
    "Whereas in the Play Store, games are still popular as a Category, but no where as popular.\n",
    "`print('Sorted Google Play Category frequency')`\n",
    "`print(display_table(gplay_db_free, 1))`\n",
    "FAMILY : 18.898792733837304\n",
    "GAME : 9.725826469592688\n",
    "TOOLS : 8.462146000225657\n",
    "\n",
    "The difference between Genre and Category in the Playstore Genre is a more granular breakdown of Category."
   ]
  },
  {
   "cell_type": "markdown",
   "metadata": {},
   "source": [
    "### Number of Ratings/Reviews"
   ]
  },
  {
   "cell_type": "markdown",
   "metadata": {},
   "source": [
    "There is no field for user count in the iOS database. Therefore, we will use  `rating_count_tot` as proxy.\n",
    "\n",
    "For Google Play Store, there is a field called `Installs`, but because the data comes in logarithmic intervals, it is impossible to pinpoint whether an app has 1,000,001 or 4,999,999 installs. Therefore we will again use the number of `Reviews` as proxy.\n",
    "\n",
    "While reviews and ratings may be biased towards really good or bad apps, we are interested in the quantity, not quality.\n",
    "\n",
    "To do this we will need to sum the number of reviews. Luckily we can easily modify the previous function to achieve this. But before we begin, we will need to process the data into an integer."
   ]
  },
  {
   "cell_type": "code",
   "execution_count": 16,
   "metadata": {
    "collapsed": false
   },
   "outputs": [
    {
     "name": "stdout",
     "output_type": "stream",
     "text": [
      "Ratings class: <class 'int'>\n",
      "Reviews class: <class 'int'>\n"
     ]
    }
   ],
   "source": [
    "for row in ios_db_free:\n",
    "    ratings = row[5]\n",
    "    ratings = int(ratings)\n",
    "    row[5] = ratings\n",
    "\n",
    "for row in gplay_db_free:\n",
    "    reviews = row[3]\n",
    "    reviews = int(reviews)\n",
    "    row[3] = reviews\n",
    "\n",
    "print('Ratings class:', type(ios_db_free[0][5]))\n",
    "print('Reviews class:', type(ios_db_free[0][5]))"
   ]
  },
  {
   "cell_type": "code",
   "execution_count": 17,
   "metadata": {
    "collapsed": false
   },
   "outputs": [
    {
     "name": "stdout",
     "output_type": "stream",
     "text": [
      "iTunes App Store by Ratings\n",
      "Games : 53.39225622901802\n",
      "Social Networking : 9.481896177948654\n",
      "Photo & Video : 5.689352746228933\n",
      "Music : 4.730306761290697\n",
      "Entertainment : 4.455288795493973\n",
      "Shopping : 2.8270862703306054\n",
      "Sports : 1.9848817257966838\n",
      "Health & Fitness : 1.8933111726001723\n",
      "Utilities : 1.892148459242271\n",
      "Weather : 1.8301320792365399\n",
      "Reference : 1.6865069740297345\n",
      "Productivity : 1.472258909509895\n",
      "Finance : 1.4163173942418434\n",
      "Travel : 1.412449184425342\n",
      "News : 1.1422908603728785\n",
      "Food & Drink : 1.0835513316693615\n",
      "Lifestyle : 1.0511603879311853\n",
      "Education : 1.033277106349015\n",
      "Book : 0.6959014479156925\n",
      "Navigation : 0.6457960035666545\n",
      "Business : 0.15921546603801798\n",
      "Catalogs : 0.020023674344242168\n",
      "Medical : 0.004590842419583994\n",
      "None\n",
      "\n",
      "\n",
      "Play Store by Reviews\n",
      "GAME : 28.229435358723187\n",
      "COMMUNICATION : 13.690261155227141\n",
      "TOOLS : 10.986128935507878\n",
      "SOCIAL : 10.920798506662036\n",
      "FAMILY : 9.085377009801904\n",
      "PHOTOGRAPHY : 5.0530151164592105\n",
      "VIDEO_PLAYERS : 3.2402976157400882\n",
      "PRODUCTIVITY : 2.6552125420092048\n",
      "PERSONALIZATION : 2.551294250457854\n",
      "SHOPPING : 2.134636259994679\n",
      "SPORTS : 1.6864198145517615\n",
      "TRAVEL_AND_LOCAL : 1.2841895593545127\n",
      "ENTERTAINMENT : 1.2288834484523419\n",
      "NEWS_AND_MAGAZINES : 1.1060806307188833\n",
      "HEALTH_AND_FITNESS : 1.0214731833377522\n",
      "MAPS_AND_NAVIGATION : 0.8487381706945516\n",
      "BOOKS_AND_REFERENCE : 0.8010381323085408\n",
      "FINANCE : 0.6055926554496617\n",
      "WEATHER : 0.5825485823161111\n",
      "LIFESTYLE : 0.5623368551238105\n",
      "BUSINESS : 0.4726758291371375\n",
      "FOOD_AND_DRINK : 0.30292949819549364\n",
      "EDUCATION : 0.2778008843756331\n",
      "DATING : 0.17354994213969432\n",
      "COMICS : 0.11221913111017374\n",
      "HOUSE_AND_HOME : 0.0924594025580002\n",
      "ART_AND_DESIGN : 0.06745325095185228\n",
      "MEDICAL : 0.05593868860469328\n",
      "AUTO_AND_VEHICLES : 0.05555371838279155\n",
      "PARENTING : 0.0455144040882245\n",
      "LIBRARIES_AND_DEMO : 0.04344830939263413\n",
      "BEAUTY : 0.01898451782530733\n",
      "EVENTS : 0.007714640347252512\n",
      "None\n"
     ]
    }
   ],
   "source": [
    "def sum_total(database, sum_index):\n",
    "    sum_col = []\n",
    "\n",
    "    for row in database:\n",
    "            sum_col.append(row[sum_index])\n",
    "    return sum(sum_col)\n",
    "\n",
    "def sum_table_raw(dataset, count_index, sum_index):\n",
    "    table = {}\n",
    "    \n",
    "    for row in dataset:\n",
    "        col = row[count_index]\n",
    "        \n",
    "        if col in table:\n",
    "            table[col] += row[sum_index]\n",
    "        else:\n",
    "            table[col] = row[sum_index]\n",
    "    \n",
    "    return table\n",
    "        \n",
    "def sum_table_percentage(database, count_index, sum_index):\n",
    "    table_percentage = {}\n",
    "    table = sum_table_raw(database, count_index, sum_index)\n",
    "    total_sum = sum_total(database, sum_index)\n",
    "    for col in table:\n",
    "        table_percentage[col] = (table[col] / total_sum * 100)\n",
    "    return table_percentage\n",
    "\n",
    "def sum_sort_table(function, dataset, count_index, sort_index):\n",
    "    table = function(dataset, count_index, sort_index)\n",
    "    table_sorted = []\n",
    "    for key in table:\n",
    "        key_val_as_tuple = (table[key], key)\n",
    "        table_sorted.append(key_val_as_tuple)\n",
    "\n",
    "    table_sorted = sorted(table_sorted, reverse = True)\n",
    "    for entry in table_sorted:\n",
    "        print(entry[1], ':', entry[0])\n",
    "\n",
    "ios_db_free_genre_ratings = sum_table_raw(ios_db_free, 11, 5)\n",
    "gplay_db_free_category_reviews = sum_table_raw(gplay_db_free, 1, 3)\n",
    "        \n",
    "print('iTunes App Store by Ratings')\n",
    "print(sum_sort_table(sum_table_percentage, ios_db_free, 11, 5))\n",
    "print('\\n')\n",
    "print('Play Store by Reviews')\n",
    "print(sum_sort_table(sum_table_percentage, gplay_db_free, 1, 3))"
   ]
  },
  {
   "cell_type": "markdown",
   "metadata": {},
   "source": [
    "From our aggregation, we see that some apps are over represented, while others are under represented in ratings and reviews.\n",
    "\n",
    "To see the degree of difference, we will compare 'rating_count_tot' and 'reviews' on a per app basis across different 'Genres' (ios_db_free) and 'Categories' (gplay_db_free). "
   ]
  },
  {
   "cell_type": "code",
   "execution_count": 18,
   "metadata": {
    "collapsed": false
   },
   "outputs": [
    {
     "name": "stdout",
     "output_type": "stream",
     "text": [
      "Utilities : 18684.456790123455\n",
      "Business : 7491.117647058823\n",
      "Shopping : 26919.690476190477\n",
      "Catalogs : 4004.0\n",
      "Sports : 23008.898550724636\n",
      "Productivity : 21028.410714285714\n",
      "Education : 7003.983050847458\n",
      "News : 21248.023255813954\n",
      "Entertainment : 14029.830708661417\n",
      "Photo & Video : 28441.54375\n",
      "Medical : 612.0\n",
      "Music : 57326.530303030304\n",
      "Games : 22788.6696905016\n",
      "Travel : 28243.8\n",
      "Food & Drink : 33333.92307692308\n",
      "Reference : 74942.11111111111\n",
      "Health & Fitness : 23298.015384615384\n",
      "Weather : 52279.892857142855\n",
      "Finance : 31467.944444444445\n",
      "Navigation : 86090.33333333333\n",
      "Social Networking : 71548.34905660378\n",
      "Lifestyle : 16485.764705882353\n",
      "Book : 39758.5\n"
     ]
    }
   ],
   "source": [
    "genre_ios = count_freq_table_raw(ios_db_free, 11)\n",
    "\n",
    "for genre in genre_ios:\n",
    "    total = 0\n",
    "    len_genre = 0\n",
    "    for row in ios_db_free:\n",
    "        genre_app = row[11]\n",
    "        if genre_app == genre:\n",
    "            app_ratings = float(row[5])\n",
    "            total += app_ratings\n",
    "            len_genre += 1\n",
    "    average_app_ratings_in_genre = total / len_genre\n",
    "    print(genre, ':', average_app_ratings_in_genre)"
   ]
  },
  {
   "cell_type": "markdown",
   "metadata": {},
   "source": [
    "1) Turn dictionary into a list of tuples.\n",
    "2) Separate `key` and `value` into different lists.\n",
    "3) Divide the `value` of `rating`/`reviews` by `frequency`.\n",
    "4) Append the new `value` into a new dictionary.\n",
    "5) Sort the dictionary."
   ]
  },
  {
   "cell_type": "code",
   "execution_count": 19,
   "metadata": {
    "collapsed": false
   },
   "outputs": [
    {
     "name": "stdout",
     "output_type": "stream",
     "text": [
      "iTunes App Store average user per app by Genre:\n",
      "Navigation : 86090.33333333333\n",
      "Reference : 74942.11111111111\n",
      "Social Networking : 71548.34905660378\n",
      "Music : 57326.530303030304\n",
      "Weather : 52279.892857142855\n",
      "Book : 39758.5\n",
      "Food & Drink : 33333.92307692308\n",
      "Finance : 31467.944444444445\n",
      "Photo & Video : 28441.54375\n",
      "Travel : 28243.8\n",
      "Shopping : 26919.690476190477\n",
      "Health & Fitness : 23298.015384615384\n",
      "Sports : 23008.898550724636\n",
      "Games : 22788.6696905016\n",
      "News : 21248.023255813954\n",
      "Productivity : 21028.410714285714\n",
      "Utilities : 18684.456790123455\n",
      "Lifestyle : 16485.764705882353\n",
      "Entertainment : 14029.830708661417\n",
      "Business : 7491.117647058823\n",
      "Education : 7003.983050847458\n",
      "Catalogs : 4004.0\n",
      "Medical : 612.0\n",
      "None\n",
      "\n",
      "\n",
      "Play Store average user per app by Genre:\n",
      "COMMUNICATION : 995608.4634146341\n",
      "SOCIAL : 965830.9872881356\n",
      "GAME : 683523.8445475638\n",
      "VIDEO_PLAYERS : 425350.08176100627\n",
      "PHOTOGRAPHY : 404081.3754789272\n",
      "TOOLS : 305732.8973333333\n",
      "ENTERTAINMENT : 301752.24705882353\n",
      "SHOPPING : 223887.34673366835\n",
      "PERSONALIZATION : 181122.31632653062\n",
      "WEATHER : 171250.77464788733\n",
      "PRODUCTIVITY : 160634.5420289855\n",
      "MAPS_AND_NAVIGATION : 142860.0483870968\n",
      "TRAVEL_AND_LOCAL : 129484.42512077295\n",
      "SPORTS : 116938.6146179402\n",
      "FAMILY : 113210.54626865672\n",
      "NEWS_AND_MAGAZINES : 93088.03225806452\n",
      "BOOKS_AND_REFERENCE : 87995.06842105264\n",
      "HEALTH_AND_FITNESS : 78094.9706959707\n",
      "FOOD_AND_DRINK : 57478.79090909091\n",
      "EDUCATION : 56293.09708737864\n",
      "COMICS : 42585.61818181818\n",
      "FINANCE : 38535.8993902439\n",
      "LIFESTYLE : 33921.82369942196\n",
      "HOUSE_AND_HOME : 26435.465753424658\n",
      "ART_AND_DESIGN : 24699.42105263158\n",
      "BUSINESS : 24239.727272727272\n",
      "DATING : 21953.272727272728\n",
      "PARENTING : 16378.706896551725\n",
      "AUTO_AND_VEHICLES : 14140.280487804877\n",
      "LIBRARIES_AND_DEMO : 10925.807228915663\n",
      "BEAUTY : 7476.226415094339\n",
      "MEDICAL : 3730.1533546325877\n",
      "EVENTS : 2555.84126984127\n",
      "None\n"
     ]
    }
   ],
   "source": [
    "#ios_db_free_genre_ratings\n",
    "#gplay_db_free_category_reviews\n",
    "#ios_db_free_genre_frequency\n",
    "#gplay_db_free_category_frequency\n",
    "def divide_two_dictionaries(num_dict, den_dict):\n",
    "    num_key = []\n",
    "    num_value = []\n",
    "    den_key = []\n",
    "    den_value = []\n",
    "    div_result = []\n",
    "    res = {}\n",
    "    num_key, num_value = zip(*num_dict.items())\n",
    "    den_key, den_value = zip(*den_dict.items())\n",
    "    div_result = [i / j for i, j in zip(num_value, den_value)] \n",
    "    for key in num_key:\n",
    "        for value in div_result:\n",
    "            res[key] = value\n",
    "            div_result.remove(value)\n",
    "            break\n",
    "    return res\n",
    "\n",
    "ios_db_free_average_app_ratings_by_genre = divide_two_dictionaries(ios_db_free_genre_ratings, ios_db_free_genre_frequency)\n",
    "gplay_db_free_average_app_reviews_by_category = divide_two_dictionaries(gplay_db_free_category_reviews, gplay_db_free_category_frequency)\n",
    "\n",
    "def simple_sort_table(parameter):\n",
    "    table = parameter\n",
    "    table_sorted = []\n",
    "    for key in table:\n",
    "        key_val_as_tuple = (table[key], key)\n",
    "        table_sorted.append(key_val_as_tuple)\n",
    "\n",
    "    table_sorted = sorted(table_sorted, reverse = True)\n",
    "    for entry in table_sorted:\n",
    "        print(entry[1], ':', entry[0])\n",
    "\n",
    "print('iTunes App Store average user per app by Genre:')\n",
    "print(simple_sort_table(ios_db_free_average_app_ratings_by_genre))\n",
    "print('\\n')\n",
    "print('Play Store average user per app by Genre:')\n",
    "print(simple_sort_table(gplay_db_free_average_app_reviews_by_category))"
   ]
  },
  {
   "cell_type": "markdown",
   "metadata": {},
   "source": [
    "## Conclusion"
   ]
  },
  {
   "cell_type": "markdown",
   "metadata": {},
   "source": [
    "From the analysis, the following genres should be considered:\n",
    "1) Social networking app: ranked #3 in iTunes, #2 in Android, and possibly crosses into the `Communication` category in Android too. A social networking app should not be too technical to pilot, as adoption comes more from pivot of marketing than indepth technical changes, so we can receive instant feedback. Lastly, social networking apps have high chance of cross platform success.\n",
    "2) Weather app: ranked #5 in iTunes, and #10 in Android. The MVP consists of interfacing with existing weather meteorology networks in realtime. Differentiation however, is the challenge.\n",
    "\n",
    "L:astly, while music app may seem like a good idea, as it is ranked #4 in iTunes, and #7 in Android under `Entertainment`. The challenge lies in securing licensing rights. Leading apps such as Spotify and Pandora is still unprofitable and cashflow negative. This genre is best avoided without a truly disruptive idea."
   ]
  }
 ],
 "metadata": {
  "kernelspec": {
   "display_name": "Python 3",
   "language": "python",
   "name": "python3"
  },
  "language_info": {
   "codemirror_mode": {
    "name": "ipython",
    "version": 3
   },
   "file_extension": ".py",
   "mimetype": "text/x-python",
   "name": "python",
   "nbconvert_exporter": "python",
   "pygments_lexer": "ipython3",
   "version": "3.4.3"
  }
 },
 "nbformat": 4,
 "nbformat_minor": 2
}
